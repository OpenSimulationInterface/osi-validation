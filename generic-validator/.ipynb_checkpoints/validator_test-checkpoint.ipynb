{
 "cells": [
  {
   "cell_type": "code",
   "execution_count": 1,
   "metadata": {},
   "outputs": [
    {
     "name": "stdout",
     "output_type": "stream",
     "text": [
      "Data file /home/aina/Desktop/overtake_right_straight_SensorView.txt contained 1479 timestamps.\n"
     ]
    }
   ],
   "source": [
    "from osi_data_container import OsiDataContainer\n",
    "odc = OsiDataContainer()\n",
    "odc.from_file('/home/aina/Desktop/overtake_right_straight_SensorView.txt')\n",
    "\n",
    "mo = odc.data[0].global_ground_truth.moving_object[0]\n",
    "sv = odc.data[0]"
   ]
  },
  {
   "cell_type": "code",
   "execution_count": 2,
   "metadata": {},
   "outputs": [],
   "source": [
    "%load_ext autoreload\n",
    "%autoreload 2"
   ]
  },
  {
   "cell_type": "code",
   "execution_count": 9,
   "metadata": {
    "scrolled": false
   },
   "outputs": [
    {
     "data": {
      "text/plain": [
       "{'SensorView': {'version': 'is_set'},\n",
       " 'Identifier': {'value': [{'is_minimum': 0}]},\n",
       " 'MovingObject': {'id': ['is_set', 'is_global_unique'],\n",
       "  'base': ['is_valid'],\n",
       "  'assigned_lane_id': ['is_valid'],\n",
       "  'vehicle_attributes': ['is_valid'],\n",
       "  'vehicle_classification': ['is_valid']}}"
      ]
     },
     "metadata": {},
     "output_type": "display_data"
    },
    {
     "name": "stderr",
     "output_type": "stream",
     "text": [
      "DEBUG:id is set as expected\n",
      "DEBUG:Check the rule is_set for [<class 'osi3.osi_object_pb2.MovingObject'>, <class 'osi3.osi_common_pb2.Identifier'>]\n",
      "DEBUG:Check the rule is_valid for Identifier\n",
      "DEBUG:Global type!\n",
      "DEBUG:Check the rule is_minimum for [<class 'osi3.osi_object_pb2.MovingObject'>, <class 'osi3.osi_common_pb2.Identifier'>, <class 'int'>]\n",
      "DEBUG:Check the rule is_global_unique for [<class 'osi3.osi_object_pb2.MovingObject'>, <class 'osi3.osi_common_pb2.Identifier'>]\n",
      "DEBUG:ID ok!\n",
      "DEBUG:Check the rule is_valid for [<class 'osi3.osi_object_pb2.MovingObject'>, <class 'osi3.osi_common_pb2.BaseMoving'>]\n",
      "DEBUG:Check the rule is_valid for BaseMoving\n",
      "WARNING:The message type 'BaseMoving' has no rule\n",
      "DEBUG:Check the rule is_valid for [<class 'osi3.osi_object_pb2.MovingObject'>, <class 'google.protobuf.pyext._message.RepeatedCompositeContainer'>]\n",
      "DEBUG:Check the rule is_valid for a list of <class 'osi3.osi_common_pb2.Identifier'> in <class 'osi3.osi_object_pb2.MovingObject'>\n",
      "DEBUG:Check the rule is_valid for Identifier\n",
      "DEBUG:Global type!\n",
      "DEBUG:Check the rule is_minimum for [<class 'osi3.osi_object_pb2.MovingObject'>, <class 'google.protobuf.pyext._message.RepeatedCompositeContainer'>, <class 'osi3.osi_common_pb2.Identifier'>, <class 'int'>]\n",
      "DEBUG:Check the rule is_valid for [<class 'osi3.osi_object_pb2.MovingObject'>, <class 'osi3.osi_object_pb2.VehicleAttributes'>]\n",
      "DEBUG:Check the rule is_valid for VehicleAttributes\n",
      "WARNING:The message type 'VehicleAttributes' has no rule\n",
      "DEBUG:Check the rule is_valid for [<class 'osi3.osi_object_pb2.MovingObject'>, <class 'osi3.osi_object_pb2.VehicleClassification'>]\n",
      "DEBUG:Check the rule is_valid for VehicleClassification\n",
      "WARNING:The message type 'VehicleClassification' has no rule\n"
     ]
    }
   ],
   "source": [
    "from osi_rule_checker import OsiRuleChecker\n",
    "from osi_validation_rules import OsiValidationRules\n",
    "\n",
    "ovr = OsiValidationRules()\n",
    "ovr.from_yaml_directory('requirements-osi-3')\n",
    "\n",
    "\n",
    "ovr.check_message([mo], ovr._rules['MovingObject'])\n",
    "display(ovr._rules)\n",
    "# ovr.check_message(sv, ovr._rules['SensorView'])"
   ]
  },
  {
   "cell_type": "code",
   "execution_count": 4,
   "metadata": {},
   "outputs": [
    {
     "data": {
      "text/plain": [
       "[osi3.osi_object_pb2.MovingObject]"
      ]
     },
     "execution_count": 4,
     "metadata": {},
     "output_type": "execute_result"
    }
   ],
   "source": [
    "# saved ID\n",
    "list(map(type, ovr._identifiers[0]))"
   ]
  },
  {
   "cell_type": "code",
   "execution_count": null,
   "metadata": {},
   "outputs": [],
   "source": []
  }
 ],
 "metadata": {
  "kernelspec": {
   "display_name": "Python 3",
   "language": "python",
   "name": "python3"
  },
  "language_info": {
   "codemirror_mode": {
    "name": "ipython",
    "version": 3
   },
   "file_extension": ".py",
   "mimetype": "text/x-python",
   "name": "python",
   "nbconvert_exporter": "python",
   "pygments_lexer": "ipython3",
   "version": "3.7.2"
  }
 },
 "nbformat": 4,
 "nbformat_minor": 2
}
